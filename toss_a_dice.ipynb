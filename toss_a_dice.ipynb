{
 "cells": [
  {
   "cell_type": "code",
   "execution_count": 1,
   "id": "c1f5d3a5",
   "metadata": {},
   "outputs": [],
   "source": [
    "import random"
   ]
  },
  {
   "cell_type": "code",
   "execution_count": 2,
   "id": "51e29b2f",
   "metadata": {},
   "outputs": [],
   "source": [
    "def validate_toss(input_string):\n",
    "    \"\"\"\n",
    "    validate number of tosses (up to 7)\n",
    "    \"\"\"\n",
    "    if input_string.strip() in {\"1\", \"2\", \"3\", \"4\", \"5\", \"6\", \"7\"}:\n",
    "        return int(input_string)\n",
    "    else:\n",
    "        print(\"Please enter a correct number of tosses (from 1 up to 6).\")\n",
    "        raise SystemExit(1)\n",
    "\n",
    "def validate_dice(input_dice):\n",
    "    \"\"\"\n",
    "    validate if choosen dice exists\n",
    "    \"\"\"\n",
    "    if input_dice in {\"D4\", \"D6\", \"D8\", \"D10_0\", \"D10_00\", \"D12\", \"D20\"}:\n",
    "        return input_dice\n",
    "    else:\n",
    "        print(\"Please enter a correct dice.\")\n",
    "        raise SystemExit(1)\n",
    "\n",
    "def roll_dice(dice_type):\n",
    "    \"\"\"\n",
    "    roll choosen dices\n",
    "    \"\"\"\n",
    "    roll_results = []\n",
    "    for d in dice_type:\n",
    "        roll = random.randint(1, dices[d])\n",
    "        if d==\"D10_00\":\n",
    "            roll=(roll-1)*10 \n",
    "        elif d==\"D10_0\":\n",
    "            roll=roll-1 \n",
    "        roll_results.append(roll)\n",
    "    return roll_results\n",
    "\n",
    "def print_dice(dice_type, roll_results):\n",
    "    i=-1\n",
    "    for d in roll_results:\n",
    "        i=i+1\n",
    "        if dice_type[i]==\"D6\":\n",
    "            print(\"┌─────────┐\\n│         │\\n│   \",d,\"   │\\n│         │\\n└─────────┘\\n\")\n",
    "        elif dice_type[i]==\"D12\":\n",
    "            if d>9:\n",
    "                print(\"   /\\\\\\n  /  \\\\\\n /    \\\\\\n/ \",d,\" \\\\\\n\\      /\\n \\    /\\n  ----\\n\")\n",
    "            else:\n",
    "                print(\"   /\\\\\\n  /  \\\\\\n /    \\\\\\n/  \",d,\" \\\\\\n\\      /\\n \\    /\\n  ----\\n\")\n",
    "        elif dice_type[i]==\"D10_0\" or dice_type[i]==\"D10_00\":\n",
    "            if d>9:\n",
    "                print(\"  /\\\\\\n /  \\\\\\n/\",d,\"\\\\\\n\\    /\\n \\  /\\n  \\/\\n\")\n",
    "            else:\n",
    "                print(\"  /\\\\\\n /  \\\\\\n/ \",d,\"\\\\\\n\\    /\\n \\  /\\n  \\/\\n\")\n",
    "        else:\n",
    "            if d>9:\n",
    "                print(\"    /\\\\\\n   /  \\\\\\n  /    \\\\\\n / \",d,\" \\\\\\n/        \\\\\\n----------\\n\") \n",
    "            else:\n",
    "                print(\"    /\\\\\\n   /  \\\\\\n  /    \\\\\\n /  \",d,\" \\\\\\n/        \\\\\\n----------\\n\") "
   ]
  },
  {
   "cell_type": "code",
   "execution_count": 3,
   "id": "879fe756",
   "metadata": {},
   "outputs": [],
   "source": [
    "#defining types of the dices\n",
    "\n",
    "dices = {\n",
    "    \"D4\": 4,\n",
    "    \"D6\": 6,\n",
    "    \"D8\": 8,\n",
    "    \"D10_0\": 9,\n",
    "    \"D10_00\": 9,\n",
    "    \"D12\": 12,\n",
    "    \"D20\": 20\n",
    "}"
   ]
  },
  {
   "cell_type": "code",
   "execution_count": 4,
   "id": "345d2079",
   "metadata": {},
   "outputs": [
    {
     "name": "stdout",
     "output_type": "stream",
     "text": [
      "How many dice do you want to roll? [1-7] 7\n",
      "Which dice do you want to roll? [D4, D6, D8, D10 (_0 or _00), D12, D20] D4\n",
      "Which dice do you want to roll? [D4, D6, D8, D10 (_0 or _00), D12, D20] D6\n",
      "Which dice do you want to roll? [D4, D6, D8, D10 (_0 or _00), D12, D20] D8\n",
      "Which dice do you want to roll? [D4, D6, D8, D10 (_0 or _00), D12, D20] D10_0\n",
      "Which dice do you want to roll? [D4, D6, D8, D10 (_0 or _00), D12, D20] D10_00\n",
      "Which dice do you want to roll? [D4, D6, D8, D10 (_0 or _00), D12, D20] D12\n",
      "Which dice do you want to roll? [D4, D6, D8, D10 (_0 or _00), D12, D20] D20\n"
     ]
    }
   ],
   "source": [
    "dice_num_input = input(\"How many dice do you want to roll? [1-7] \")\n",
    "dice_num = validate_toss(dice_num_input)\n",
    "\n",
    "dice_type = []\n",
    "for _ in range(dice_num):\n",
    "    dice_type_input = input(\"Which dice do you want to roll? [D4, D6, D8, D10 (_0 or _00), D12, D20] \")   \n",
    "    dice_type.append(validate_dice(dice_type_input))"
   ]
  },
  {
   "cell_type": "code",
   "execution_count": 5,
   "id": "2a869ff2",
   "metadata": {},
   "outputs": [
    {
     "name": "stdout",
     "output_type": "stream",
     "text": [
      "    /\\\n",
      "   /  \\\n",
      "  /    \\\n",
      " /   2  \\\n",
      "/        \\\n",
      "----------\n",
      "\n",
      "┌─────────┐\n",
      "│         │\n",
      "│    3    │\n",
      "│         │\n",
      "└─────────┘\n",
      "\n",
      "    /\\\n",
      "   /  \\\n",
      "  /    \\\n",
      " /   5  \\\n",
      "/        \\\n",
      "----------\n",
      "\n",
      "  /\\\n",
      " /  \\\n",
      "/  7 \\\n",
      "\\    /\n",
      " \\  /\n",
      "  \\/\n",
      "\n",
      "  /\\\n",
      " /  \\\n",
      "/ 60 \\\n",
      "\\    /\n",
      " \\  /\n",
      "  \\/\n",
      "\n",
      "   /\\\n",
      "  /  \\\n",
      " /    \\\n",
      "/   4  \\\n",
      "\\      /\n",
      " \\    /\n",
      "  ----\n",
      "\n",
      "    /\\\n",
      "   /  \\\n",
      "  /    \\\n",
      " /  12  \\\n",
      "/        \\\n",
      "----------\n",
      "\n"
     ]
    }
   ],
   "source": [
    "roll_results = roll_dice(dice_type)\n",
    "print_dice(dice_type, roll_results)"
   ]
  },
  {
   "cell_type": "code",
   "execution_count": null,
   "id": "61619c85",
   "metadata": {},
   "outputs": [],
   "source": []
  }
 ],
 "metadata": {
  "kernelspec": {
   "display_name": "Python 3",
   "language": "python",
   "name": "python3"
  },
  "language_info": {
   "codemirror_mode": {
    "name": "ipython",
    "version": 3
   },
   "file_extension": ".py",
   "mimetype": "text/x-python",
   "name": "python",
   "nbconvert_exporter": "python",
   "pygments_lexer": "ipython3",
   "version": "3.8.8"
  }
 },
 "nbformat": 4,
 "nbformat_minor": 5
}
